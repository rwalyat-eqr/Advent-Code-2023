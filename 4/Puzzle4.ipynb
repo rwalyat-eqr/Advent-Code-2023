{
  "metadata": {
    "kernelspec": {
      "name": "python",
      "display_name": "Python (Pyodide)",
      "language": "python"
    },
    "language_info": {
      "codemirror_mode": {
        "name": "python",
        "version": 3
      },
      "file_extension": ".py",
      "mimetype": "text/x-python",
      "name": "python",
      "nbconvert_exporter": "python",
      "pygments_lexer": "ipython3",
      "version": "3.8"
    }
  },
  "nbformat_minor": 4,
  "nbformat": 4,
  "cells": [
    {
      "cell_type": "code",
      "source": "import pandas as pd",
      "metadata": {
        "trusted": true
      },
      "outputs": [],
      "execution_count": 53
    },
    {
      "cell_type": "code",
      "source": "# Read the csv file\ndf = pd.read_csv('Puzzle4.csv', header=None)\ndf.head()",
      "metadata": {
        "trusted": true
      },
      "outputs": [
        {
          "execution_count": 54,
          "output_type": "execute_result",
          "data": {
            "text/plain": "          0                                1  \\\n0  Card   1   10  5 11 65 27 43 44 29 24 69    \n1  Card   2   25 43 15 31 45 19 36 73 34 85    \n2  Card   3    4 46 42 23 18 98 59 75 19 57    \n3  Card   4   92 13 56 27 19 44 70 93 32 66    \n4  Card   5   25 18 30 45 23 80 91 13 47 61    \n\n                                                   2  \n0   65 66 18 14 17 97 95 34 38 23 10 25 22 15 87 ...  \n1   92 11 85 68 74 20 19 71  1 36 43 32 77 33 14 ...  \n2   22  3 75 80 42 23 59 39 98 38 18 21 67 57 20 ...  \n3   38  4 19 75 87 93 32  1 23 14 51 22 42 44 33 ...  \n4   62 45 71 30 39 19 61 68 23 80 91 96 25 58 13 ...  ",
            "text/html": "<div>\n<style scoped>\n    .dataframe tbody tr th:only-of-type {\n        vertical-align: middle;\n    }\n\n    .dataframe tbody tr th {\n        vertical-align: top;\n    }\n\n    .dataframe thead th {\n        text-align: right;\n    }\n</style>\n<table border=\"1\" class=\"dataframe\">\n  <thead>\n    <tr style=\"text-align: right;\">\n      <th></th>\n      <th>0</th>\n      <th>1</th>\n      <th>2</th>\n    </tr>\n  </thead>\n  <tbody>\n    <tr>\n      <th>0</th>\n      <td>Card   1</td>\n      <td>10  5 11 65 27 43 44 29 24 69</td>\n      <td>65 66 18 14 17 97 95 34 38 23 10 25 22 15 87 ...</td>\n    </tr>\n    <tr>\n      <th>1</th>\n      <td>Card   2</td>\n      <td>25 43 15 31 45 19 36 73 34 85</td>\n      <td>92 11 85 68 74 20 19 71  1 36 43 32 77 33 14 ...</td>\n    </tr>\n    <tr>\n      <th>2</th>\n      <td>Card   3</td>\n      <td>4 46 42 23 18 98 59 75 19 57</td>\n      <td>22  3 75 80 42 23 59 39 98 38 18 21 67 57 20 ...</td>\n    </tr>\n    <tr>\n      <th>3</th>\n      <td>Card   4</td>\n      <td>92 13 56 27 19 44 70 93 32 66</td>\n      <td>38  4 19 75 87 93 32  1 23 14 51 22 42 44 33 ...</td>\n    </tr>\n    <tr>\n      <th>4</th>\n      <td>Card   5</td>\n      <td>25 18 30 45 23 80 91 13 47 61</td>\n      <td>62 45 71 30 39 19 61 68 23 80 91 96 25 58 13 ...</td>\n    </tr>\n  </tbody>\n</table>\n</div>"
          },
          "metadata": {}
        }
      ],
      "execution_count": 54
    },
    {
      "cell_type": "code",
      "source": "for i in df.index:\n    df[1][i] = df[1][i].strip().split(' ')\n    df[2][i] = df[2][i].strip().split(' ')",
      "metadata": {
        "trusted": true
      },
      "outputs": [],
      "execution_count": 55
    },
    {
      "cell_type": "code",
      "source": "points = [0] * 200",
      "metadata": {
        "trusted": true
      },
      "outputs": [],
      "execution_count": 56
    },
    {
      "cell_type": "code",
      "source": "df[1][0]",
      "metadata": {
        "trusted": true
      },
      "outputs": [
        {
          "execution_count": 57,
          "output_type": "execute_result",
          "data": {
            "text/plain": "['10', '', '5', '11', '65', '27', '43', '44', '29', '24', '69']"
          },
          "metadata": {}
        }
      ],
      "execution_count": 57
    },
    {
      "cell_type": "code",
      "source": "for i in df.index:\n    match = 0\n    for item in df[1][i]:\n        if item != '':\n            for code in df[2][i]:\n                if item == code:\n                    match = match + 1\n    if match > 0:\n        points[i] = 2 ** (match-1)",
      "metadata": {
        "trusted": true
      },
      "outputs": [],
      "execution_count": 58
    },
    {
      "cell_type": "code",
      "source": "points",
      "metadata": {
        "trusted": true
      },
      "outputs": [
        {
          "execution_count": 59,
          "output_type": "execute_result",
          "data": {
            "text/plain": "[8,\n 512,\n 128,\n 512,\n 128,\n 512,\n 512,\n 64,\n 64,\n 2,\n 8,\n 64,\n 8,\n 4,\n 1,\n 1,\n 0,\n 1,\n 0,\n 512,\n 512,\n 128,\n 32,\n 4,\n 0,\n 64,\n 16,\n 2,\n 4,\n 0,\n 1,\n 4,\n 0,\n 0,\n 0,\n 512,\n 64,\n 512,\n 128,\n 1,\n 1,\n 2,\n 16,\n 32,\n 32,\n 0,\n 8,\n 0,\n 2,\n 0,\n 0,\n 512,\n 8,\n 32,\n 8,\n 512,\n 512,\n 512,\n 4,\n 16,\n 64,\n 32,\n 2,\n 8,\n 8,\n 1,\n 0,\n 2,\n 0,\n 0,\n 512,\n 512,\n 512,\n 8,\n 512,\n 2,\n 512,\n 512,\n 512,\n 512,\n 512,\n 512,\n 4,\n 2,\n 8,\n 4,\n 32,\n 16,\n 4,\n 8,\n 4,\n 2,\n 1,\n 0,\n 512,\n 512,\n 512,\n 1,\n 8,\n 128,\n 8,\n 2,\n 0,\n 4,\n 0,\n 0,\n 8,\n 0,\n 4,\n 2,\n 1,\n 0,\n 16,\n 2,\n 32,\n 512,\n 512,\n 128,\n 128,\n 64,\n 32,\n 1,\n 4,\n 1,\n 1,\n 1,\n 0,\n 32,\n 4,\n 512,\n 512,\n 512,\n 512,\n 64,\n 0,\n 0,\n 512,\n 32,\n 0,\n 2,\n 1,\n 2,\n 1,\n 2,\n 0,\n 1,\n 0,\n 16,\n 32,\n 64,\n 512,\n 512,\n 2,\n 0,\n 0,\n 64,\n 128,\n 2,\n 16,\n 4,\n 4,\n 2,\n 2,\n 0,\n 0,\n 32,\n 512,\n 8,\n 1,\n 512,\n 1,\n 8,\n 512,\n 512,\n 2,\n 4,\n 4,\n 4,\n 32,\n 0,\n 8,\n 0,\n 2,\n 1,\n 1,\n 0,\n 0,\n 0,\n 0,\n 0,\n 0,\n 0,\n 0,\n 0,\n 0,\n 0,\n 0,\n 0,\n 0,\n 0]"
          },
          "metadata": {}
        }
      ],
      "execution_count": 59
    },
    {
      "cell_type": "code",
      "source": "df[3] = 1\nfor i in df.index:\n    match = 0\n    for item in df[1][i]:\n        if item != '':\n            for code in df[2][i]:\n                if item == code:\n                    match = match + 1\n    # print(\"card\", i+1, \"matches\", match, \"copies\", df[3][i])\n    if match > 0:\n        for j in range(1, match+1):\n            df[3][i+j] = df[3][i+j] + df[3][i]",
      "metadata": {
        "trusted": true
      },
      "outputs": [
        {
          "name": "stderr",
          "text": "<ipython-input-60-231bfe19911a>:12: SettingWithCopyWarning: \nA value is trying to be set on a copy of a slice from a DataFrame\n\nSee the caveats in the documentation: https://pandas.pydata.org/pandas-docs/stable/user_guide/indexing.html#returning-a-view-versus-a-copy\n  df[3][i+j] = df[3][i+j] + df[3][i]\n",
          "output_type": "stream"
        }
      ],
      "execution_count": 60
    },
    {
      "cell_type": "code",
      "source": "sum(df[3])",
      "metadata": {
        "trusted": true
      },
      "outputs": [
        {
          "execution_count": 61,
          "output_type": "execute_result",
          "data": {
            "text/plain": "9881048"
          },
          "metadata": {}
        }
      ],
      "execution_count": 61
    }
  ]
}