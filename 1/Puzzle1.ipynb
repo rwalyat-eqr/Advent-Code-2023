{
  "metadata": {
    "language_info": {
      "codemirror_mode": {
        "name": "python",
        "version": 3
      },
      "file_extension": ".py",
      "mimetype": "text/x-python",
      "name": "python",
      "nbconvert_exporter": "python",
      "pygments_lexer": "ipython3",
      "version": "3.8"
    },
    "kernelspec": {
      "name": "python",
      "display_name": "Python (Pyodide)",
      "language": "python"
    }
  },
  "nbformat_minor": 4,
  "nbformat": 4,
  "cells": [
    {
      "cell_type": "code",
      "source": "import pandas as pd",
      "metadata": {
        "trusted": true
      },
      "execution_count": 78,
      "outputs": []
    },
    {
      "cell_type": "code",
      "source": "# Read the csv file\ndf = pd.read_csv('Puzzle1.csv', header=None)\nprint(df.head())",
      "metadata": {
        "trusted": true
      },
      "execution_count": 79,
      "outputs": [
        {
          "name": "stdout",
          "text": "                                   0\n0             eighttkbtzjz6nineeight\n1           5knjbxgvhktvfcq89onefive\n2  hnjcrxeightonejnlvm4hstmcsevensix\n3               trsdgcxcseven39dpmzs\n4                    oneninesixtwo26\n",
          "output_type": "stream"
        }
      ]
    },
    {
      "cell_type": "code",
      "source": "df[1] = df[0].str.extract('(\\d)')",
      "metadata": {
        "trusted": true
      },
      "execution_count": 80,
      "outputs": []
    },
    {
      "cell_type": "code",
      "source": "df[2] = df[0].str[::-1]\ndf[3] = df[2].str.extract('(\\d)')",
      "metadata": {
        "trusted": true
      },
      "execution_count": 81,
      "outputs": []
    },
    {
      "cell_type": "code",
      "source": "df[4] = (df[1] + df[3]).astype(int)",
      "metadata": {
        "trusted": true
      },
      "execution_count": 82,
      "outputs": []
    },
    {
      "cell_type": "code",
      "source": "df[4].sum()",
      "metadata": {
        "trusted": true
      },
      "execution_count": 83,
      "outputs": [
        {
          "execution_count": 83,
          "output_type": "execute_result",
          "data": {
            "text/plain": "55130"
          },
          "metadata": {}
        }
      ]
    },
    {
      "cell_type": "code",
      "source": "df[5] = df[0].str.replace('one', 'o1e')\ndf[5] = df[5].str.replace('two', 't2o')\ndf[5] = df[5].str.replace('three', 't3e')\ndf[5] = df[5].str.replace('four', 'f4r')\ndf[5] = df[5].str.replace('five', 'f5e')\ndf[5] = df[5].str.replace('six', 's6x')\ndf[5] = df[5].str.replace('seven', 's7n')\ndf[5] = df[5].str.replace('eight', 'e8t')\ndf[5] = df[5].str.replace('nine', 'n9e')",
      "metadata": {
        "trusted": true
      },
      "execution_count": 89,
      "outputs": []
    },
    {
      "cell_type": "code",
      "source": "df[6] = df[5].str.extract('(\\d)')\ndf[7] = df[5].str[::-1]\ndf[8] = df[7].str.extract('(\\d)')",
      "metadata": {
        "trusted": true
      },
      "execution_count": 90,
      "outputs": []
    },
    {
      "cell_type": "code",
      "source": "df[9] = (df[6] + df[8]).astype(int)",
      "metadata": {
        "trusted": true
      },
      "execution_count": 91,
      "outputs": []
    },
    {
      "cell_type": "code",
      "source": "df.head(20)",
      "metadata": {
        "trusted": true
      },
      "execution_count": 92,
      "outputs": [
        {
          "execution_count": 92,
          "output_type": "execute_result",
          "data": {
            "text/plain": "                                                  0  1  \\\n0                            eighttkbtzjz6nineeight  6   \n1                          5knjbxgvhktvfcq89onefive  5   \n2                 hnjcrxeightonejnlvm4hstmcsevensix  4   \n3                              trsdgcxcseven39dpmzs  3   \n4                                   oneninesixtwo26  2   \n5                             dppthreeh32twobhrqzks  3   \n6                               1cxklgfbvhsnccfive4  1   \n7                          foursgjsevenseven5five19  5   \n8                                            nrrk87  8   \n9                       63ntkjbvcv3ntdcptmvheight78  6   \n10                                          7xv3one  7   \n11  3tzjcrfbvhtqctfmqmdcbjhxln9eightnqbcqztmxcthree  3   \n12       sevensszlgdrlrhnptonethree3qvrxkbgfxtthree  3   \n13                             3nckzkpkjsvztqkgvm99  3   \n14                    fourthreeonesevencqdv2gnvblhr  2   \n15                                        528ksdcbx  5   \n16                                           six342  3   \n17               3twozrfrtljql9eightgcqrgmbzz7dlcr5  3   \n18                            6five2threesevenone65  6   \n19                             4onejrg23sevensxfive  4   \n\n                                                  2  3   4  \\\n0                            thgieenin6zjztbktthgie  6  66   \n1                          evifeno98qcfvtkhvgxbjnk5  9  59   \n2                 xisnevescmtsh4mvlnjenothgiexrcjnh  4  44   \n3                              szmpd93nevescxcgdsrt  9  39   \n4                                   62owtxisenineno  6  26   \n5                             skzqrhbowt23heerhtppd  2  32   \n6                               4evifccnshvbfglkxc1  4  14   \n7                          91evif5nevesnevesjgsruof  9  59   \n8                                            78krrn  7  87   \n9                       87thgiehvmtpcdtn3vcvbjktn36  8  68   \n10                                          eno3vx7  3  73   \n11  eerhtcxmtzqcbqnthgie9nlxhjbcdmqmftcqthvbfrcjzt3  9  39   \n12       eerhttxfgbkxrvq3eerhtenotpnhrlrdglzssneves  3  33   \n13                             99mvgkqtzvsjkpkzkcn3  9  39   \n14                    rhlbvng2vdqcnevesenoeerhtruof  2  22   \n15                                        xbcdsk825  8  58   \n16                                           243xis  2  32   \n17               5rcld7zzbmgrqcgthgie9lqjltrfrzowt3  5  35   \n18                            56enoneveseerht2evif6  5  65   \n19                             evifxsneves32grjeno4  3  43   \n\n                                              5  6  \\\n0                             e8ttkbtzjz6n9ee8t  8   \n1                       5knjbxgvhktvfcq89o1ef5e  5   \n2                 hnjcrxe8to1ejnlvm4hstmcs7ns6x  8   \n3                            trsdgcxcs7n39dpmzs  7   \n4                                o1en9es6xt2o26  1   \n5                           dppt3eh32t2obhrqzks  3   \n6                            1cxklgfbvhsnccf5e4  1   \n7                            f4rsgjs7ns7n5f5e19  4   \n8                                        nrrk87  8   \n9                     63ntkjbvcv3ntdcptmvhe8t78  6   \n10                                      7xv3o1e  7   \n11  3tzjcrfbvhtqctfmqmdcbjhxln9e8tnqbcqztmxct3e  3   \n12         s7nsszlgdrlrhnpto1et3e3qvrxkbgfxtt3e  7   \n13                         3nckzkpkjsvztqkgvm99  3   \n14                     f4rt3eo1es7ncqdv2gnvblhr  4   \n15                                    528ksdcbx  5   \n16                                       s6x342  6   \n17             3t2ozrfrtljql9e8tgcqrgmbzz7dlcr5  3   \n18                             6f5e2t3es7no1e65  6   \n19                            4o1ejrg23s7nsxf5e  4   \n\n                                              7  8   9  \n0                             t8ee9n6zjztbktt8e  8  88  \n1                       e5fe1o98qcfvtkhvgxbjnk5  5  55  \n2                 x6sn7scmtsh4mvlnje1ot8exrcjnh  6  86  \n3                            szmpd93n7scxcgdsrt  9  79  \n4                                62o2tx6se9ne1o  6  16  \n5                           skzqrhbo2t23he3tppd  2  32  \n6                            4e5fccnshvbfglkxc1  4  14  \n7                            91e5f5n7sn7sjgsr4f  9  49  \n8                                        78krrn  7  87  \n9                     87t8ehvmtpcdtn3vcvbjktn36  8  68  \n10                                      e1o3vx7  1  71  \n11  e3tcxmtzqcbqnt8e9nlxhjbcdmqmftcqthvbfrcjzt3  3  33  \n12         e3ttxfgbkxrvq3e3te1otpnhrlrdglzssn7s  3  73  \n13                         99mvgkqtzvsjkpkzkcn3  9  39  \n14                     rhlbvng2vdqcn7se1oe3tr4f  2  42  \n15                                    xbcdsk825  8  58  \n16                                       243x6s  2  62  \n17             5rcld7zzbmgrqcgt8e9lqjltrfrzo2t3  5  35  \n18                             56e1on7se3t2e5f6  5  65  \n19                            e5fxsn7s32grje1o4  5  45  ",
            "text/html": "<div>\n<style scoped>\n    .dataframe tbody tr th:only-of-type {\n        vertical-align: middle;\n    }\n\n    .dataframe tbody tr th {\n        vertical-align: top;\n    }\n\n    .dataframe thead th {\n        text-align: right;\n    }\n</style>\n<table border=\"1\" class=\"dataframe\">\n  <thead>\n    <tr style=\"text-align: right;\">\n      <th></th>\n      <th>0</th>\n      <th>1</th>\n      <th>2</th>\n      <th>3</th>\n      <th>4</th>\n      <th>5</th>\n      <th>6</th>\n      <th>7</th>\n      <th>8</th>\n      <th>9</th>\n    </tr>\n  </thead>\n  <tbody>\n    <tr>\n      <th>0</th>\n      <td>eighttkbtzjz6nineeight</td>\n      <td>6</td>\n      <td>thgieenin6zjztbktthgie</td>\n      <td>6</td>\n      <td>66</td>\n      <td>e8ttkbtzjz6n9ee8t</td>\n      <td>8</td>\n      <td>t8ee9n6zjztbktt8e</td>\n      <td>8</td>\n      <td>88</td>\n    </tr>\n    <tr>\n      <th>1</th>\n      <td>5knjbxgvhktvfcq89onefive</td>\n      <td>5</td>\n      <td>evifeno98qcfvtkhvgxbjnk5</td>\n      <td>9</td>\n      <td>59</td>\n      <td>5knjbxgvhktvfcq89o1ef5e</td>\n      <td>5</td>\n      <td>e5fe1o98qcfvtkhvgxbjnk5</td>\n      <td>5</td>\n      <td>55</td>\n    </tr>\n    <tr>\n      <th>2</th>\n      <td>hnjcrxeightonejnlvm4hstmcsevensix</td>\n      <td>4</td>\n      <td>xisnevescmtsh4mvlnjenothgiexrcjnh</td>\n      <td>4</td>\n      <td>44</td>\n      <td>hnjcrxe8to1ejnlvm4hstmcs7ns6x</td>\n      <td>8</td>\n      <td>x6sn7scmtsh4mvlnje1ot8exrcjnh</td>\n      <td>6</td>\n      <td>86</td>\n    </tr>\n    <tr>\n      <th>3</th>\n      <td>trsdgcxcseven39dpmzs</td>\n      <td>3</td>\n      <td>szmpd93nevescxcgdsrt</td>\n      <td>9</td>\n      <td>39</td>\n      <td>trsdgcxcs7n39dpmzs</td>\n      <td>7</td>\n      <td>szmpd93n7scxcgdsrt</td>\n      <td>9</td>\n      <td>79</td>\n    </tr>\n    <tr>\n      <th>4</th>\n      <td>oneninesixtwo26</td>\n      <td>2</td>\n      <td>62owtxisenineno</td>\n      <td>6</td>\n      <td>26</td>\n      <td>o1en9es6xt2o26</td>\n      <td>1</td>\n      <td>62o2tx6se9ne1o</td>\n      <td>6</td>\n      <td>16</td>\n    </tr>\n    <tr>\n      <th>5</th>\n      <td>dppthreeh32twobhrqzks</td>\n      <td>3</td>\n      <td>skzqrhbowt23heerhtppd</td>\n      <td>2</td>\n      <td>32</td>\n      <td>dppt3eh32t2obhrqzks</td>\n      <td>3</td>\n      <td>skzqrhbo2t23he3tppd</td>\n      <td>2</td>\n      <td>32</td>\n    </tr>\n    <tr>\n      <th>6</th>\n      <td>1cxklgfbvhsnccfive4</td>\n      <td>1</td>\n      <td>4evifccnshvbfglkxc1</td>\n      <td>4</td>\n      <td>14</td>\n      <td>1cxklgfbvhsnccf5e4</td>\n      <td>1</td>\n      <td>4e5fccnshvbfglkxc1</td>\n      <td>4</td>\n      <td>14</td>\n    </tr>\n    <tr>\n      <th>7</th>\n      <td>foursgjsevenseven5five19</td>\n      <td>5</td>\n      <td>91evif5nevesnevesjgsruof</td>\n      <td>9</td>\n      <td>59</td>\n      <td>f4rsgjs7ns7n5f5e19</td>\n      <td>4</td>\n      <td>91e5f5n7sn7sjgsr4f</td>\n      <td>9</td>\n      <td>49</td>\n    </tr>\n    <tr>\n      <th>8</th>\n      <td>nrrk87</td>\n      <td>8</td>\n      <td>78krrn</td>\n      <td>7</td>\n      <td>87</td>\n      <td>nrrk87</td>\n      <td>8</td>\n      <td>78krrn</td>\n      <td>7</td>\n      <td>87</td>\n    </tr>\n    <tr>\n      <th>9</th>\n      <td>63ntkjbvcv3ntdcptmvheight78</td>\n      <td>6</td>\n      <td>87thgiehvmtpcdtn3vcvbjktn36</td>\n      <td>8</td>\n      <td>68</td>\n      <td>63ntkjbvcv3ntdcptmvhe8t78</td>\n      <td>6</td>\n      <td>87t8ehvmtpcdtn3vcvbjktn36</td>\n      <td>8</td>\n      <td>68</td>\n    </tr>\n    <tr>\n      <th>10</th>\n      <td>7xv3one</td>\n      <td>7</td>\n      <td>eno3vx7</td>\n      <td>3</td>\n      <td>73</td>\n      <td>7xv3o1e</td>\n      <td>7</td>\n      <td>e1o3vx7</td>\n      <td>1</td>\n      <td>71</td>\n    </tr>\n    <tr>\n      <th>11</th>\n      <td>3tzjcrfbvhtqctfmqmdcbjhxln9eightnqbcqztmxcthree</td>\n      <td>3</td>\n      <td>eerhtcxmtzqcbqnthgie9nlxhjbcdmqmftcqthvbfrcjzt3</td>\n      <td>9</td>\n      <td>39</td>\n      <td>3tzjcrfbvhtqctfmqmdcbjhxln9e8tnqbcqztmxct3e</td>\n      <td>3</td>\n      <td>e3tcxmtzqcbqnt8e9nlxhjbcdmqmftcqthvbfrcjzt3</td>\n      <td>3</td>\n      <td>33</td>\n    </tr>\n    <tr>\n      <th>12</th>\n      <td>sevensszlgdrlrhnptonethree3qvrxkbgfxtthree</td>\n      <td>3</td>\n      <td>eerhttxfgbkxrvq3eerhtenotpnhrlrdglzssneves</td>\n      <td>3</td>\n      <td>33</td>\n      <td>s7nsszlgdrlrhnpto1et3e3qvrxkbgfxtt3e</td>\n      <td>7</td>\n      <td>e3ttxfgbkxrvq3e3te1otpnhrlrdglzssn7s</td>\n      <td>3</td>\n      <td>73</td>\n    </tr>\n    <tr>\n      <th>13</th>\n      <td>3nckzkpkjsvztqkgvm99</td>\n      <td>3</td>\n      <td>99mvgkqtzvsjkpkzkcn3</td>\n      <td>9</td>\n      <td>39</td>\n      <td>3nckzkpkjsvztqkgvm99</td>\n      <td>3</td>\n      <td>99mvgkqtzvsjkpkzkcn3</td>\n      <td>9</td>\n      <td>39</td>\n    </tr>\n    <tr>\n      <th>14</th>\n      <td>fourthreeonesevencqdv2gnvblhr</td>\n      <td>2</td>\n      <td>rhlbvng2vdqcnevesenoeerhtruof</td>\n      <td>2</td>\n      <td>22</td>\n      <td>f4rt3eo1es7ncqdv2gnvblhr</td>\n      <td>4</td>\n      <td>rhlbvng2vdqcn7se1oe3tr4f</td>\n      <td>2</td>\n      <td>42</td>\n    </tr>\n    <tr>\n      <th>15</th>\n      <td>528ksdcbx</td>\n      <td>5</td>\n      <td>xbcdsk825</td>\n      <td>8</td>\n      <td>58</td>\n      <td>528ksdcbx</td>\n      <td>5</td>\n      <td>xbcdsk825</td>\n      <td>8</td>\n      <td>58</td>\n    </tr>\n    <tr>\n      <th>16</th>\n      <td>six342</td>\n      <td>3</td>\n      <td>243xis</td>\n      <td>2</td>\n      <td>32</td>\n      <td>s6x342</td>\n      <td>6</td>\n      <td>243x6s</td>\n      <td>2</td>\n      <td>62</td>\n    </tr>\n    <tr>\n      <th>17</th>\n      <td>3twozrfrtljql9eightgcqrgmbzz7dlcr5</td>\n      <td>3</td>\n      <td>5rcld7zzbmgrqcgthgie9lqjltrfrzowt3</td>\n      <td>5</td>\n      <td>35</td>\n      <td>3t2ozrfrtljql9e8tgcqrgmbzz7dlcr5</td>\n      <td>3</td>\n      <td>5rcld7zzbmgrqcgt8e9lqjltrfrzo2t3</td>\n      <td>5</td>\n      <td>35</td>\n    </tr>\n    <tr>\n      <th>18</th>\n      <td>6five2threesevenone65</td>\n      <td>6</td>\n      <td>56enoneveseerht2evif6</td>\n      <td>5</td>\n      <td>65</td>\n      <td>6f5e2t3es7no1e65</td>\n      <td>6</td>\n      <td>56e1on7se3t2e5f6</td>\n      <td>5</td>\n      <td>65</td>\n    </tr>\n    <tr>\n      <th>19</th>\n      <td>4onejrg23sevensxfive</td>\n      <td>4</td>\n      <td>evifxsneves32grjeno4</td>\n      <td>3</td>\n      <td>43</td>\n      <td>4o1ejrg23s7nsxf5e</td>\n      <td>4</td>\n      <td>e5fxsn7s32grje1o4</td>\n      <td>5</td>\n      <td>45</td>\n    </tr>\n  </tbody>\n</table>\n</div>"
          },
          "metadata": {}
        }
      ]
    },
    {
      "cell_type": "code",
      "source": "df[9].sum()",
      "metadata": {
        "trusted": true
      },
      "execution_count": 93,
      "outputs": [
        {
          "execution_count": 93,
          "output_type": "execute_result",
          "data": {
            "text/plain": "54985"
          },
          "metadata": {}
        }
      ]
    },
    {
      "cell_type": "code",
      "source": "",
      "metadata": {},
      "execution_count": null,
      "outputs": []
    },
    {
      "cell_type": "code",
      "source": "",
      "metadata": {},
      "execution_count": null,
      "outputs": []
    }
  ]
}